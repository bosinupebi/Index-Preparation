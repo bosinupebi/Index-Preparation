{
  "cells": [
    {
      "cell_type": "markdown",
      "metadata": {
        "colab_type": "text",
        "id": "view-in-github"
      },
      "source": [
        "<a href=\"https://colab.research.google.com/github/bosinupebi/Data-Science/blob/master/index_from_website_demo.ipynb\" target=\"_parent\"><img src=\"https://colab.research.google.com/assets/colab-badge.svg\" alt=\"Open In Colab\"/></a>"
      ]
    },
    {
      "cell_type": "markdown",
      "metadata": {
        "id": "EcoEDCsJpBG6"
      },
      "source": [
        "This notebook makes a question answering chain with a specified website as a context data."
      ]
    },
    {
      "cell_type": "markdown",
      "metadata": {
        "id": "i3rmZlgg0RsI"
      },
      "source": [
        "# Setting up"
      ]
    },
    {
      "cell_type": "markdown",
      "metadata": {
        "id": "khCtKh6eDzh2"
      },
      "source": [
        "Install dependencies"
      ]
    },
    {
      "cell_type": "code",
      "execution_count": null,
      "metadata": {
        "id": "mxFhFfKzRgpi"
      },
      "outputs": [],
      "source": [
        "!pip3 install langchain==0.0.189\n",
        "!pip3 install pinecone-client\n",
        "!pip3 install openai\n",
        "!pip3 install tiktoken\n",
        "!pip3 install nest_asyncio\n"
      ]
    },
    {
      "cell_type": "code",
      "execution_count": null,
      "metadata": {},
      "outputs": [],
      "source": [
        "!pip3 install --upgrade pinecone-client"
      ]
    },
    {
      "cell_type": "markdown",
      "metadata": {
        "id": "oU2eHKKCD4lq"
      },
      "source": [
        "Set up OpenAI API key"
      ]
    },
    {
      "cell_type": "code",
      "execution_count": null,
      "metadata": {
        "id": "hOiNazy2SSPL"
      },
      "outputs": [],
      "source": [
        "import os\n",
        "os.environ[\"OPENAI_API_KEY\"] = \"\""
      ]
    },
    {
      "cell_type": "markdown",
      "metadata": {
        "id": "6xUZg07MMvoU"
      },
      "source": [
        "Set up Pinecone API keys"
      ]
    },
    {
      "cell_type": "code",
      "execution_count": null,
      "metadata": {
        "id": "7hai7fChMzw2"
      },
      "outputs": [],
      "source": [
        "from pinecone import Pinecone, ServerlessSpec\n",
        "\n",
        "pc = Pinecone(api_key=\"\")"
      ]
    },
    {
      "cell_type": "code",
      "execution_count": null,
      "metadata": {},
      "outputs": [],
      "source": [
        "pc.create_index(\n",
        "    name=\"quickstart\",\n",
        "    dimension=1536,\n",
        "    metric=\"cosine\",\n",
        "    spec=ServerlessSpec(\n",
        "        cloud='aws', \n",
        "        region='us-west-2'\n",
        "    ) \n",
        ") "
      ]
    },
    {
      "cell_type": "code",
      "execution_count": null,
      "metadata": {
        "colab": {
          "base_uri": "https://localhost:8080/"
        },
        "id": "kcUaA9YWRS2D",
        "outputId": "a957320d-f6e7-4513-cec9-361264a14d8c"
      },
      "outputs": [],
      "source": [
        "import nest_asyncio\n",
        "nest_asyncio.apply()\n",
        "\n",
        "\n",
        "\n",
        "from langchain.document_loaders import PyPDFLoader\n",
        "\n",
        "loader = PyPDFLoader(\"\")\n",
        "pages = loader.load_and_split()"
      ]
    },
    {
      "cell_type": "code",
      "execution_count": null,
      "metadata": {},
      "outputs": [],
      "source": [
        "from langchain.text_splitter import RecursiveCharacterTextSplitter\n",
        "import json\n",
        "\n",
        "text_splitter = RecursiveCharacterTextSplitter(\n",
        "    chunk_size = 1000,\n",
        "    chunk_overlap  = 200,\n",
        ")\n",
        "\n",
        "docs_chunks = text_splitter.split_documents(pages)\n",
        "\n",
        "print(docs_chunks)"
      ]
    },
    {
      "cell_type": "code",
      "execution_count": null,
      "metadata": {
        "id": "xqqD72sGRbBA"
      },
      "outputs": [],
      "source": [
        "import random\n",
        "import string\n",
        "import openai\n",
        "\n",
        "#create open ai embedding then upsert vector\n",
        "index = pc.Index(\"quickstart\")\n",
        "\n",
        "# Function to generate a random ID\n",
        "def generate_random_id():\n",
        "    return ''.join(random.choices(string.ascii_letters + string.digits, k=10))\n",
        "\n",
        "# Process each document and upsert\n",
        "for doc in docs_chunks:\n",
        "    # Clean and prepare page content\n",
        "    cleaned_content = ' '.join(doc.page_content.replace('\\n', ' ').split())\n",
        "\n",
        "    # Create embedding\n",
        "    response = openai.Embedding.create(\n",
        "        input=cleaned_content,\n",
        "        model='text-embedding-3-small'\n",
        "    )\n",
        "    embeds = [record['embedding'] for record in response['data']]\n",
        "\n",
        "    # Generate a random ID for the document\n",
        "    doc_id = generate_random_id()\n",
        "\n",
        "    # Prepare metadata\n",
        "    doc_metadata = {\n",
        "        \"source\": doc.metadata['source'],\n",
        "        \"page\": doc.metadata['page'],\n",
        "        \"text\": cleaned_content\n",
        "    }\n",
        "\n",
        "    # Upsert to Pinecone\n",
        "    index.upsert(\n",
        "        vectors=[{\n",
        "            \"id\": doc_id,\n",
        "            \"values\": embeds[0],  # Assuming one embedding per document\n",
        "            \"metadata\": doc_metadata\n",
        "        }]\n",
        "    )"
      ]
    }
  ],
  "metadata": {
    "colab": {
      "include_colab_link": true,
      "provenance": []
    },
    "kernelspec": {
      "display_name": "Python 3",
      "name": "python3"
    },
    "language_info": {
      "codemirror_mode": {
        "name": "ipython",
        "version": 3
      },
      "file_extension": ".py",
      "mimetype": "text/x-python",
      "name": "python",
      "nbconvert_exporter": "python",
      "pygments_lexer": "ipython3",
      "version": "3.9.6"
    }
  },
  "nbformat": 4,
  "nbformat_minor": 0
}
