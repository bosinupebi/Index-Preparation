{
 "cells": [
  {
   "cell_type": "code",
   "execution_count": null,
   "metadata": {},
   "outputs": [],
   "source": [
    "!pip3 install langchain==0.0.189\n",
    "!pip3 install pinecone-client\n",
    "!pip3 install openai\n",
    "!pip3 install tiktoken\n",
    "!pip3 install nest_asyncio"
   ]
  },
  {
   "cell_type": "code",
   "execution_count": null,
   "metadata": {},
   "outputs": [],
   "source": [
    "import os\n",
    "os.environ[\"OPENAI_API_KEY\"] = \"\""
   ]
  },
  {
   "cell_type": "code",
   "execution_count": null,
   "metadata": {},
   "outputs": [],
   "source": [
    "from pinecone import Pinecone, ServerlessSpec\n",
    "\n",
    "pc = Pinecone(api_key=\"\")\n"
   ]
  },
  {
   "cell_type": "code",
   "execution_count": null,
   "metadata": {},
   "outputs": [],
   "source": [
    "pc.create_index(\n",
    "    name=\"quickstart\",\n",
    "    dimension=1536,\n",
    "    metric=\"cosine\",\n",
    "    spec=ServerlessSpec(\n",
    "        cloud='aws', \n",
    "        region='us-west-2'\n",
    "    ) \n",
    ") "
   ]
  },
  {
   "cell_type": "code",
   "execution_count": null,
   "metadata": {},
   "outputs": [],
   "source": [
    "import nest_asyncio\n",
    "nest_asyncio.apply()\n",
    "\n",
    "from langchain.document_loaders.sitemap import SitemapLoader\n",
    "\n",
    "\n",
    "loader = SitemapLoader(\n",
    "    web_path=\"https://langchain.readthedocs.io/sitemap.xml\"\n",
    ")\n",
    "\n",
    "\n",
    "\n",
    "docs = loader.load()"
   ]
  },
  {
   "cell_type": "code",
   "execution_count": null,
   "metadata": {},
   "outputs": [],
   "source": [
    "from langchain.text_splitter import RecursiveCharacterTextSplitter\n",
    "\n",
    "text_splitter = RecursiveCharacterTextSplitter(\n",
    "    chunk_size = 1200,\n",
    "    chunk_overlap  = 200,\n",
    ")\n",
    "\n",
    "docs_chunks = text_splitter.split_documents(docs)"
   ]
  },
  {
   "cell_type": "code",
   "execution_count": null,
   "metadata": {},
   "outputs": [],
   "source": [
    "import random\n",
    "import string\n",
    "import openai\n",
    "\n",
    "#create open ai embedding then upsert vector\n",
    "index = pc.Index(\"quickstart\")\n",
    "\n",
    "# Function to generate a random ID\n",
    "def generate_random_id():\n",
    "    return ''.join(random.choices(string.ascii_letters + string.digits, k=10))\n",
    "\n",
    "# Process each document and upsert\n",
    "for doc in docs_chunks:\n",
    "    # Clean and prepare page content\n",
    "    cleaned_content = ' '.join(doc.page_content.replace('\\n', ' ').split())\n",
    "\n",
    "    # Create embedding\n",
    "    response = openai.Embedding.create(\n",
    "        input=cleaned_content,\n",
    "        model='text-embedding-3-small'\n",
    "    )\n",
    "    embeds = [record['embedding'] for record in response['data']]\n",
    "\n",
    "    # Generate a random ID for the document\n",
    "    doc_id = generate_random_id()\n",
    "\n",
    "    # Prepare metadata\n",
    "    doc_metadata = {\n",
    "        \"source\": doc.metadata['source'],\n",
    "        \"loc\": doc.metadata['loc'],\n",
    "        \"text\": cleaned_content\n",
    "    }\n",
    "\n",
    "    # Upsert to Pinecone\n",
    "    index.upsert(\n",
    "        vectors=[{\n",
    "            \"id\": doc_id,\n",
    "            \"values\": embeds[0],  # Assuming one embedding per document\n",
    "            \"metadata\": doc_metadata\n",
    "        }]\n",
    "    )"
   ]
  },
  {
   "cell_type": "code",
   "execution_count": null,
   "metadata": {},
   "outputs": [],
   "source": []
  },
  {
   "cell_type": "code",
   "execution_count": null,
   "metadata": {},
   "outputs": [],
   "source": []
  },
  {
   "cell_type": "code",
   "execution_count": null,
   "metadata": {},
   "outputs": [],
   "source": []
  },
  {
   "cell_type": "code",
   "execution_count": null,
   "metadata": {},
   "outputs": [],
   "source": []
  }
 ],
 "metadata": {
  "kernelspec": {
   "display_name": "Python 3",
   "language": "python",
   "name": "python3"
  },
  "language_info": {
   "codemirror_mode": {
    "name": "ipython",
    "version": 3
   },
   "file_extension": ".py",
   "mimetype": "text/x-python",
   "name": "python",
   "nbconvert_exporter": "python",
   "pygments_lexer": "ipython3",
   "version": "3.11.5"
  }
 },
 "nbformat": 4,
 "nbformat_minor": 2
}
